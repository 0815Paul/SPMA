{
 "cells": [
  {
   "cell_type": "code",
   "execution_count": 15,
   "metadata": {},
   "outputs": [],
   "source": [
    "import json\n",
    "import os"
   ]
  },
  {
   "cell_type": "code",
   "execution_count": 16,
   "metadata": {},
   "outputs": [
    {
     "name": "stdout",
     "output_type": "stream",
     "text": [
      "20230409\n"
     ]
    },
    {
     "data": {
      "text/plain": [
       "dict_keys(['Scenario35', 'Scenario73', 'Scenario256', 'Scenario284', 'Scenario466', 'Scenario759', 'Scenario774', 'Scenario816', 'Scenario872', 'Scenario895'])"
      ]
     },
     "execution_count": 16,
     "metadata": {},
     "output_type": "execute_result"
    }
   ],
   "source": [
    "import re\n",
    "\n",
    "# Pfad zur Eingabe-JSON-Datei\n",
    "file_name = 'reduced_heat_demand_scenarios_20230409_to_20230409_day.json'\n",
    "\n",
    "# Extrahieren der ersten Zahlen vor '_to'\n",
    "numbers = ''.join(re.findall(r'\\d+(?=_to)', file_name))\n",
    "print(numbers)\n",
    "\n",
    "\n",
    "\n",
    "\n",
    "input_file = f'./data/demands/{file_name}'  # Ersetzen Sie dies durch den tatsächlichen Pfad, falls nötig\n",
    "\n",
    "# Überprüfen, ob die Datei existiert\n",
    "if not os.path.exists(input_file):\n",
    "    raise FileNotFoundError(f\"Die Eingabedatei '{input_file}' wurde nicht gefunden.\")\n",
    "\n",
    "# Laden der JSON-Daten\n",
    "with open(input_file, 'r', encoding='utf-8') as f:\n",
    "    scenarios = json.load(f)\n",
    "\n",
    "# Anzeigen der geladenen Daten (optional)\n",
    "scenarios.keys()  # Zeigt die Namen der Szenarien an\n"
   ]
  },
  {
   "cell_type": "code",
   "execution_count": 17,
   "metadata": {},
   "outputs": [
    {
     "name": "stdout",
     "output_type": "stream",
     "text": [
      "Summe der Wahrscheinlichkeiten: 1.0000000000000002\n",
      "Die Summe der Wahrscheinlichkeiten ist korrekt (nahe bei 1).\n"
     ]
    }
   ],
   "source": [
    "# Berechnung der Gesamtsumme der Wahrscheinlichkeiten\n",
    "total_probability = sum(scenario.get(\"Probability\", 0) for scenario in scenarios.values())\n",
    "print(f\"Summe der Wahrscheinlichkeiten: {total_probability}\")\n",
    "\n",
    "# Überprüfung, ob die Summe nahe bei 1 liegt\n",
    "toleranz = 1e-6\n",
    "if abs(total_probability - 1.0) > toleranz:\n",
    "    print(\"Warnung: Die Summe der Wahrscheinlichkeiten weicht von 1 ab.\")\n",
    "else:\n",
    "    print(\"Die Summe der Wahrscheinlichkeiten ist korrekt (nahe bei 1).\")\n"
   ]
  },
  {
   "cell_type": "code",
   "execution_count": 18,
   "metadata": {},
   "outputs": [
    {
     "data": {
      "text/plain": [
       "{'1': 114.12528039089847,\n",
       " '2': 131.6764564804357,\n",
       " '3': 321.9598657085602,\n",
       " '4': 183.5948591396576,\n",
       " '5': 179.25170719632766,\n",
       " '6': 177.836352553812,\n",
       " '7': 189.44919738535702,\n",
       " '8': 176.61627169256005,\n",
       " '9': 179.3592108113534,\n",
       " '10': 158.12045651616222,\n",
       " '11': 139.7998291600472,\n",
       " '12': 133.4161349870855,\n",
       " '13': 121.55663298106916,\n",
       " '14': 117.73879220437135,\n",
       " '15': 127.46238815148392,\n",
       " '16': 164.26542652063998,\n",
       " '17': 167.21353045713306,\n",
       " '18': 176.79798727039324,\n",
       " '19': 146.9597789835313,\n",
       " '20': 129.36070932888646,\n",
       " '21': 71.6671740255822,\n",
       " '22': 78.37839689673115,\n",
       " '23': 70.20693138301849,\n",
       " '24': 72.87833620073005}"
      ]
     },
     "execution_count": 18,
     "metadata": {},
     "output_type": "execute_result"
    }
   ],
   "source": [
    "# Initialisieren eines Dictionaries für die gewichteten Summen\n",
    "weighted_sum = {str(hour): 0.0 for hour in range(1, 25)}\n",
    "\n",
    "# Berechnung des gewichteten Mittelwerts\n",
    "for scenario_name, scenario_data in scenarios.items():\n",
    "    probability = scenario_data.get(\"Probability\", 0)\n",
    "    \n",
    "    # Überprüfung auf negative Wahrscheinlichkeiten\n",
    "    if probability < 0:\n",
    "        print(f\"Warnung: Wahrscheinlichkeit für {scenario_name} ist negativ. Überspringe dieses Szenario.\")\n",
    "        continue\n",
    "    \n",
    "    for hour in range(1, 25):\n",
    "        hour_str = str(hour)\n",
    "        heat_demand = scenario_data.get(hour_str, 0)\n",
    "        weighted_sum[hour_str] += heat_demand * probability\n",
    "\n",
    "# Anzeigen der gewichteten Summen (optional)\n",
    "weighted_sum\n"
   ]
  },
  {
   "cell_type": "code",
   "execution_count": 19,
   "metadata": {},
   "outputs": [
    {
     "data": {
      "text/plain": [
       "{'heat_demand': {'1': 114.12528039089847,\n",
       "  '2': 131.6764564804357,\n",
       "  '3': 321.9598657085602,\n",
       "  '4': 183.5948591396576,\n",
       "  '5': 179.25170719632766,\n",
       "  '6': 177.836352553812,\n",
       "  '7': 189.44919738535702,\n",
       "  '8': 176.61627169256005,\n",
       "  '9': 179.3592108113534,\n",
       "  '10': 158.12045651616222,\n",
       "  '11': 139.7998291600472,\n",
       "  '12': 133.4161349870855,\n",
       "  '13': 121.55663298106916,\n",
       "  '14': 117.73879220437135,\n",
       "  '15': 127.46238815148392,\n",
       "  '16': 164.26542652063998,\n",
       "  '17': 167.21353045713306,\n",
       "  '18': 176.79798727039324,\n",
       "  '19': 146.9597789835313,\n",
       "  '20': 129.36070932888646,\n",
       "  '21': 71.6671740255822,\n",
       "  '22': 78.37839689673115,\n",
       "  '23': 70.20693138301849,\n",
       "  '24': 72.87833620073005}}"
      ]
     },
     "execution_count": 19,
     "metadata": {},
     "output_type": "execute_result"
    }
   ],
   "source": [
    "# Strukturieren des Ergebnisses\n",
    "result = {\n",
    "    \"heat_demand\": weighted_sum\n",
    "}\n",
    "\n",
    "# Anzeigen des strukturierten Ergebnisses (optional)\n",
    "result\n"
   ]
  },
  {
   "cell_type": "code",
   "execution_count": 20,
   "metadata": {},
   "outputs": [
    {
     "name": "stdout",
     "output_type": "stream",
     "text": [
      "Der gewichtete Mittelwert des Wärmebedarfs wurde in './data/demands/weighted_heat_demand/weighted_heat_demand_20230409.json' gespeichert.\n"
     ]
    }
   ],
   "source": [
    "# Pfad zur Ausgabedatei\n",
    "output_file = f'./data/demands/weighted_heat_demand/weighted_heat_demand_{numbers}.json'  # Ersetzen Sie dies nach Bedarf\n",
    "\n",
    "# Speichern des Ergebnisses in der Ausgabedatei\n",
    "with open(output_file, 'w', encoding='utf-8') as f:\n",
    "    json.dump(result, f, indent=4, ensure_ascii=False)\n",
    "\n",
    "print(f\"Der gewichtete Mittelwert des Wärmebedarfs wurde in '{output_file}' gespeichert.\")\n"
   ]
  },
  {
   "cell_type": "code",
   "execution_count": 21,
   "metadata": {},
   "outputs": [
    {
     "data": {
      "text/plain": [
       "{'heat_demand': {'1': 114.12528039089847,\n",
       "  '2': 131.6764564804357,\n",
       "  '3': 321.9598657085602,\n",
       "  '4': 183.5948591396576,\n",
       "  '5': 179.25170719632766,\n",
       "  '6': 177.836352553812,\n",
       "  '7': 189.44919738535702,\n",
       "  '8': 176.61627169256005,\n",
       "  '9': 179.3592108113534,\n",
       "  '10': 158.12045651616222,\n",
       "  '11': 139.7998291600472,\n",
       "  '12': 133.4161349870855,\n",
       "  '13': 121.55663298106916,\n",
       "  '14': 117.73879220437135,\n",
       "  '15': 127.46238815148392,\n",
       "  '16': 164.26542652063998,\n",
       "  '17': 167.21353045713306,\n",
       "  '18': 176.79798727039324,\n",
       "  '19': 146.9597789835313,\n",
       "  '20': 129.36070932888646,\n",
       "  '21': 71.6671740255822,\n",
       "  '22': 78.37839689673115,\n",
       "  '23': 70.20693138301849,\n",
       "  '24': 72.87833620073005}}"
      ]
     },
     "execution_count": 21,
     "metadata": {},
     "output_type": "execute_result"
    }
   ],
   "source": [
    "# Laden und Anzeigen der Ausgabedatei (optional)\n",
    "with open(output_file, 'r', encoding='utf-8') as f:\n",
    "    output_data = json.load(f)\n",
    "\n",
    "output_data\n"
   ]
  }
 ],
 "metadata": {
  "kernelspec": {
   "display_name": ".venv",
   "language": "python",
   "name": "python3"
  },
  "language_info": {
   "codemirror_mode": {
    "name": "ipython",
    "version": 3
   },
   "file_extension": ".py",
   "mimetype": "text/x-python",
   "name": "python",
   "nbconvert_exporter": "python",
   "pygments_lexer": "ipython3",
   "version": "3.9.13"
  }
 },
 "nbformat": 4,
 "nbformat_minor": 2
}
