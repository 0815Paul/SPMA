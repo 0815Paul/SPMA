{
 "cells": [
  {
   "cell_type": "code",
   "execution_count": 1,
   "metadata": {},
   "outputs": [],
   "source": [
    "import json\n",
    "import os"
   ]
  },
  {
   "cell_type": "code",
   "execution_count": 2,
   "metadata": {},
   "outputs": [
    {
     "name": "stdout",
     "output_type": "stream",
     "text": [
      "20230626\n"
     ]
    },
    {
     "data": {
      "text/plain": [
       "dict_keys(['Scenario1', 'Scenario2', 'Scenario3', 'Scenario4', 'Scenario5', 'Scenario6', 'Scenario7', 'Scenario8', 'Scenario9', 'Scenario10'])"
      ]
     },
     "execution_count": 2,
     "metadata": {},
     "output_type": "execute_result"
    }
   ],
   "source": [
    "import re\n",
    "\n",
    "# Pfad zur Eingabe-JSON-Datei\n",
    "file_name = 'reduced_heat_demand_scenarios_20230626_to_20230626_day.json'\n",
    "\n",
    "# Extrahieren der ersten Zahlen vor '_to'\n",
    "numbers = ''.join(re.findall(r'\\d+(?=_to)', file_name))\n",
    "print(numbers)\n",
    "\n",
    "\n",
    "\n",
    "\n",
    "input_file = f'./data/demands/{file_name}'  # Ersetzen Sie dies durch den tatsächlichen Pfad, falls nötig\n",
    "\n",
    "# Überprüfen, ob die Datei existiert\n",
    "if not os.path.exists(input_file):\n",
    "    raise FileNotFoundError(f\"Die Eingabedatei '{input_file}' wurde nicht gefunden.\")\n",
    "\n",
    "# Laden der JSON-Daten\n",
    "with open(input_file, 'r', encoding='utf-8') as f:\n",
    "    scenarios = json.load(f)\n",
    "\n",
    "# Anzeigen der geladenen Daten (optional)\n",
    "scenarios.keys()  # Zeigt die Namen der Szenarien an\n"
   ]
  },
  {
   "cell_type": "code",
   "execution_count": 3,
   "metadata": {},
   "outputs": [
    {
     "name": "stdout",
     "output_type": "stream",
     "text": [
      "Summe der Wahrscheinlichkeiten: 0.9999999999999999\n",
      "Die Summe der Wahrscheinlichkeiten ist korrekt (nahe bei 1).\n"
     ]
    }
   ],
   "source": [
    "# Berechnung der Gesamtsumme der Wahrscheinlichkeiten\n",
    "total_probability = sum(scenario.get(\"Probability\", 0) for scenario in scenarios.values())\n",
    "print(f\"Summe der Wahrscheinlichkeiten: {total_probability}\")\n",
    "\n",
    "# Überprüfung, ob die Summe nahe bei 1 liegt\n",
    "toleranz = 1e-6\n",
    "if abs(total_probability - 1.0) > toleranz:\n",
    "    print(\"Warnung: Die Summe der Wahrscheinlichkeiten weicht von 1 ab.\")\n",
    "else:\n",
    "    print(\"Die Summe der Wahrscheinlichkeiten ist korrekt (nahe bei 1).\")\n"
   ]
  },
  {
   "cell_type": "code",
   "execution_count": 4,
   "metadata": {},
   "outputs": [
    {
     "data": {
      "text/plain": [
       "{'1': 5.559557195027181,\n",
       " '2': 49.34710631653783,\n",
       " '3': 95.48301447282147,\n",
       " '4': 56.749591780486476,\n",
       " '5': 49.50375031353054,\n",
       " '6': 23.800422893263466,\n",
       " '7': 50.545475024211406,\n",
       " '8': 48.99565872712138,\n",
       " '9': 69.68266580715647,\n",
       " '10': 49.466786098443336,\n",
       " '11': 44.2786831072234,\n",
       " '12': 22.480622706817734,\n",
       " '13': 4.363685219917748,\n",
       " '14': 53.10252780655519,\n",
       " '15': 65.93673852464127,\n",
       " '16': 30.730173247128615,\n",
       " '17': 27.19614092916644,\n",
       " '18': 78.92180463369827,\n",
       " '19': 56.264775590459465,\n",
       " '20': 19.839942780349546,\n",
       " '21': 15.213526720257892,\n",
       " '22': 23.752315785915645,\n",
       " '23': 17.838477111533994,\n",
       " '24': 19.405105995306062}"
      ]
     },
     "execution_count": 4,
     "metadata": {},
     "output_type": "execute_result"
    }
   ],
   "source": [
    "# Initialisieren eines Dictionaries für die gewichteten Summen\n",
    "weighted_sum = {str(hour): 0.0 for hour in range(1, 25)}\n",
    "\n",
    "# Berechnung des gewichteten Mittelwerts\n",
    "for scenario_name, scenario_data in scenarios.items():\n",
    "    probability = scenario_data.get(\"Probability\", 0)\n",
    "    \n",
    "    # Überprüfung auf negative Wahrscheinlichkeiten\n",
    "    if probability < 0:\n",
    "        print(f\"Warnung: Wahrscheinlichkeit für {scenario_name} ist negativ. Überspringe dieses Szenario.\")\n",
    "        continue\n",
    "    \n",
    "    for hour in range(1, 25):\n",
    "        hour_str = str(hour)\n",
    "        heat_demand = scenario_data.get(hour_str, 0)\n",
    "        weighted_sum[hour_str] += heat_demand * probability\n",
    "\n",
    "# Anzeigen der gewichteten Summen (optional)\n",
    "weighted_sum\n"
   ]
  },
  {
   "cell_type": "code",
   "execution_count": 5,
   "metadata": {},
   "outputs": [
    {
     "data": {
      "text/plain": [
       "{'heat_demand': {'1': 5.559557195027181,\n",
       "  '2': 49.34710631653783,\n",
       "  '3': 95.48301447282147,\n",
       "  '4': 56.749591780486476,\n",
       "  '5': 49.50375031353054,\n",
       "  '6': 23.800422893263466,\n",
       "  '7': 50.545475024211406,\n",
       "  '8': 48.99565872712138,\n",
       "  '9': 69.68266580715647,\n",
       "  '10': 49.466786098443336,\n",
       "  '11': 44.2786831072234,\n",
       "  '12': 22.480622706817734,\n",
       "  '13': 4.363685219917748,\n",
       "  '14': 53.10252780655519,\n",
       "  '15': 65.93673852464127,\n",
       "  '16': 30.730173247128615,\n",
       "  '17': 27.19614092916644,\n",
       "  '18': 78.92180463369827,\n",
       "  '19': 56.264775590459465,\n",
       "  '20': 19.839942780349546,\n",
       "  '21': 15.213526720257892,\n",
       "  '22': 23.752315785915645,\n",
       "  '23': 17.838477111533994,\n",
       "  '24': 19.405105995306062}}"
      ]
     },
     "execution_count": 5,
     "metadata": {},
     "output_type": "execute_result"
    }
   ],
   "source": [
    "# Strukturieren des Ergebnisses\n",
    "result = {\n",
    "    \"heat_demand\": weighted_sum\n",
    "}\n",
    "\n",
    "# Anzeigen des strukturierten Ergebnisses (optional)\n",
    "result\n"
   ]
  },
  {
   "cell_type": "code",
   "execution_count": 6,
   "metadata": {},
   "outputs": [
    {
     "name": "stdout",
     "output_type": "stream",
     "text": [
      "Der gewichtete Mittelwert des Wärmebedarfs wurde in './data/demands/weighted_heat_demand/weighted_heat_demand_20230626.json' gespeichert.\n"
     ]
    }
   ],
   "source": [
    "# Pfad zur Ausgabedatei\n",
    "output_file = f'./data/demands/weighted_heat_demand/weighted_heat_demand_{numbers}.json'  # Ersetzen Sie dies nach Bedarf\n",
    "\n",
    "# Speichern des Ergebnisses in der Ausgabedatei\n",
    "with open(output_file, 'w', encoding='utf-8') as f:\n",
    "    json.dump(result, f, indent=4, ensure_ascii=False)\n",
    "\n",
    "print(f\"Der gewichtete Mittelwert des Wärmebedarfs wurde in '{output_file}' gespeichert.\")\n"
   ]
  },
  {
   "cell_type": "code",
   "execution_count": 7,
   "metadata": {},
   "outputs": [
    {
     "data": {
      "text/plain": [
       "{'heat_demand': {'1': 5.559557195027181,\n",
       "  '2': 49.34710631653783,\n",
       "  '3': 95.48301447282147,\n",
       "  '4': 56.749591780486476,\n",
       "  '5': 49.50375031353054,\n",
       "  '6': 23.800422893263466,\n",
       "  '7': 50.545475024211406,\n",
       "  '8': 48.99565872712138,\n",
       "  '9': 69.68266580715647,\n",
       "  '10': 49.466786098443336,\n",
       "  '11': 44.2786831072234,\n",
       "  '12': 22.480622706817734,\n",
       "  '13': 4.363685219917748,\n",
       "  '14': 53.10252780655519,\n",
       "  '15': 65.93673852464127,\n",
       "  '16': 30.730173247128615,\n",
       "  '17': 27.19614092916644,\n",
       "  '18': 78.92180463369827,\n",
       "  '19': 56.264775590459465,\n",
       "  '20': 19.839942780349546,\n",
       "  '21': 15.213526720257892,\n",
       "  '22': 23.752315785915645,\n",
       "  '23': 17.838477111533994,\n",
       "  '24': 19.405105995306062}}"
      ]
     },
     "execution_count": 7,
     "metadata": {},
     "output_type": "execute_result"
    }
   ],
   "source": [
    "# Laden und Anzeigen der Ausgabedatei (optional)\n",
    "with open(output_file, 'r', encoding='utf-8') as f:\n",
    "    output_data = json.load(f)\n",
    "\n",
    "output_data\n"
   ]
  }
 ],
 "metadata": {
  "kernelspec": {
   "display_name": ".venv",
   "language": "python",
   "name": "python3"
  },
  "language_info": {
   "codemirror_mode": {
    "name": "ipython",
    "version": 3
   },
   "file_extension": ".py",
   "mimetype": "text/x-python",
   "name": "python",
   "nbconvert_exporter": "python",
   "pygments_lexer": "ipython3",
   "version": "3.9.13"
  }
 },
 "nbformat": 4,
 "nbformat_minor": 2
}
