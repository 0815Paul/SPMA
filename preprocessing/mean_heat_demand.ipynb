{
 "cells": [
  {
   "cell_type": "code",
   "execution_count": 22,
   "metadata": {},
   "outputs": [],
   "source": [
    "import json\n",
    "import os"
   ]
  },
  {
   "cell_type": "code",
   "execution_count": 23,
   "metadata": {},
   "outputs": [
    {
     "name": "stdout",
     "output_type": "stream",
     "text": [
      "20230622\n"
     ]
    },
    {
     "data": {
      "text/plain": [
       "dict_keys(['Scenario1', 'Scenario2', 'Scenario3', 'Scenario4', 'Scenario5', 'Scenario6', 'Scenario7', 'Scenario8', 'Scenario9', 'Scenario10'])"
      ]
     },
     "execution_count": 23,
     "metadata": {},
     "output_type": "execute_result"
    }
   ],
   "source": [
    "import re\n",
    "\n",
    "# Pfad zur Eingabe-JSON-Datei\n",
    "file_name = 'reduced_heat_demand_scenarios_20230622_to_20230622_day.json'\n",
    "\n",
    "# Extrahieren der ersten Zahlen vor '_to'\n",
    "numbers = ''.join(re.findall(r'\\d+(?=_to)', file_name))\n",
    "print(numbers)\n",
    "\n",
    "\n",
    "\n",
    "\n",
    "input_file = f'./data/demands/{file_name}'  # Ersetzen Sie dies durch den tatsächlichen Pfad, falls nötig\n",
    "\n",
    "# Überprüfen, ob die Datei existiert\n",
    "if not os.path.exists(input_file):\n",
    "    raise FileNotFoundError(f\"Die Eingabedatei '{input_file}' wurde nicht gefunden.\")\n",
    "\n",
    "# Laden der JSON-Daten\n",
    "with open(input_file, 'r', encoding='utf-8') as f:\n",
    "    scenarios = json.load(f)\n",
    "\n",
    "# Anzeigen der geladenen Daten (optional)\n",
    "scenarios.keys()  # Zeigt die Namen der Szenarien an\n"
   ]
  },
  {
   "cell_type": "code",
   "execution_count": 24,
   "metadata": {},
   "outputs": [
    {
     "name": "stdout",
     "output_type": "stream",
     "text": [
      "Summe der Wahrscheinlichkeiten: 1.0\n",
      "Die Summe der Wahrscheinlichkeiten ist korrekt (nahe bei 1).\n"
     ]
    }
   ],
   "source": [
    "# Berechnung der Gesamtsumme der Wahrscheinlichkeiten\n",
    "total_probability = sum(scenario.get(\"Probability\", 0) for scenario in scenarios.values())\n",
    "print(f\"Summe der Wahrscheinlichkeiten: {total_probability}\")\n",
    "\n",
    "# Überprüfung, ob die Summe nahe bei 1 liegt\n",
    "toleranz = 1e-6\n",
    "if abs(total_probability - 1.0) > toleranz:\n",
    "    print(\"Warnung: Die Summe der Wahrscheinlichkeiten weicht von 1 ab.\")\n",
    "else:\n",
    "    print(\"Die Summe der Wahrscheinlichkeiten ist korrekt (nahe bei 1).\")\n"
   ]
  },
  {
   "cell_type": "code",
   "execution_count": 25,
   "metadata": {},
   "outputs": [
    {
     "data": {
      "text/plain": [
       "{'1': 36.24386421572822,\n",
       " '2': 26.692999494298064,\n",
       " '3': 141.6197794804473,\n",
       " '4': 65.15020205996362,\n",
       " '5': 77.96398077436749,\n",
       " '6': 67.7567557861825,\n",
       " '7': 38.02592863912713,\n",
       " '8': 54.84084535348535,\n",
       " '9': 43.439398807762494,\n",
       " '10': 54.8755544362121,\n",
       " '11': 32.44800792112758,\n",
       " '12': 15.916989445516831,\n",
       " '13': 28.827556957494835,\n",
       " '14': 39.46224681947092,\n",
       " '15': 45.821287828923325,\n",
       " '16': 57.83019280455906,\n",
       " '17': 40.40491738142699,\n",
       " '18': 36.428411006364115,\n",
       " '19': 83.03192944340083,\n",
       " '20': 45.062662760310836,\n",
       " '21': 19.738114307770783,\n",
       " '22': 14.938687483990673,\n",
       " '23': 35.09557245675588,\n",
       " '24': 19.591071413958748}"
      ]
     },
     "execution_count": 25,
     "metadata": {},
     "output_type": "execute_result"
    }
   ],
   "source": [
    "# Initialisieren eines Dictionaries für die gewichteten Summen\n",
    "weighted_sum = {str(hour): 0.0 for hour in range(1, 25)}\n",
    "\n",
    "# Berechnung des gewichteten Mittelwerts\n",
    "for scenario_name, scenario_data in scenarios.items():\n",
    "    probability = scenario_data.get(\"Probability\", 0)\n",
    "    \n",
    "    # Überprüfung auf negative Wahrscheinlichkeiten\n",
    "    if probability < 0:\n",
    "        print(f\"Warnung: Wahrscheinlichkeit für {scenario_name} ist negativ. Überspringe dieses Szenario.\")\n",
    "        continue\n",
    "    \n",
    "    for hour in range(1, 25):\n",
    "        hour_str = str(hour)\n",
    "        heat_demand = scenario_data.get(hour_str, 0)\n",
    "        weighted_sum[hour_str] += heat_demand * probability\n",
    "\n",
    "# Anzeigen der gewichteten Summen (optional)\n",
    "weighted_sum\n"
   ]
  },
  {
   "cell_type": "code",
   "execution_count": 26,
   "metadata": {},
   "outputs": [
    {
     "data": {
      "text/plain": [
       "{'heat_demand': {'1': 36.24386421572822,\n",
       "  '2': 26.692999494298064,\n",
       "  '3': 141.6197794804473,\n",
       "  '4': 65.15020205996362,\n",
       "  '5': 77.96398077436749,\n",
       "  '6': 67.7567557861825,\n",
       "  '7': 38.02592863912713,\n",
       "  '8': 54.84084535348535,\n",
       "  '9': 43.439398807762494,\n",
       "  '10': 54.8755544362121,\n",
       "  '11': 32.44800792112758,\n",
       "  '12': 15.916989445516831,\n",
       "  '13': 28.827556957494835,\n",
       "  '14': 39.46224681947092,\n",
       "  '15': 45.821287828923325,\n",
       "  '16': 57.83019280455906,\n",
       "  '17': 40.40491738142699,\n",
       "  '18': 36.428411006364115,\n",
       "  '19': 83.03192944340083,\n",
       "  '20': 45.062662760310836,\n",
       "  '21': 19.738114307770783,\n",
       "  '22': 14.938687483990673,\n",
       "  '23': 35.09557245675588,\n",
       "  '24': 19.591071413958748}}"
      ]
     },
     "execution_count": 26,
     "metadata": {},
     "output_type": "execute_result"
    }
   ],
   "source": [
    "# Strukturieren des Ergebnisses\n",
    "result = {\n",
    "    \"heat_demand\": weighted_sum\n",
    "}\n",
    "\n",
    "# Anzeigen des strukturierten Ergebnisses (optional)\n",
    "result\n"
   ]
  },
  {
   "cell_type": "code",
   "execution_count": 27,
   "metadata": {},
   "outputs": [
    {
     "name": "stdout",
     "output_type": "stream",
     "text": [
      "Der gewichtete Mittelwert des Wärmebedarfs wurde in './data/demands/weighted_heat_demand/weighted_heat_demand_20230622.json' gespeichert.\n"
     ]
    }
   ],
   "source": [
    "# Pfad zur Ausgabedatei\n",
    "output_file = f'./data/demands/weighted_heat_demand/weighted_heat_demand_{numbers}.json'  # Ersetzen Sie dies nach Bedarf\n",
    "\n",
    "# Speichern des Ergebnisses in der Ausgabedatei\n",
    "with open(output_file, 'w', encoding='utf-8') as f:\n",
    "    json.dump(result, f, indent=4, ensure_ascii=False)\n",
    "\n",
    "print(f\"Der gewichtete Mittelwert des Wärmebedarfs wurde in '{output_file}' gespeichert.\")\n"
   ]
  },
  {
   "cell_type": "code",
   "execution_count": 28,
   "metadata": {},
   "outputs": [
    {
     "data": {
      "text/plain": [
       "{'heat_demand': {'1': 36.24386421572822,\n",
       "  '2': 26.692999494298064,\n",
       "  '3': 141.6197794804473,\n",
       "  '4': 65.15020205996362,\n",
       "  '5': 77.96398077436749,\n",
       "  '6': 67.7567557861825,\n",
       "  '7': 38.02592863912713,\n",
       "  '8': 54.84084535348535,\n",
       "  '9': 43.439398807762494,\n",
       "  '10': 54.8755544362121,\n",
       "  '11': 32.44800792112758,\n",
       "  '12': 15.916989445516831,\n",
       "  '13': 28.827556957494835,\n",
       "  '14': 39.46224681947092,\n",
       "  '15': 45.821287828923325,\n",
       "  '16': 57.83019280455906,\n",
       "  '17': 40.40491738142699,\n",
       "  '18': 36.428411006364115,\n",
       "  '19': 83.03192944340083,\n",
       "  '20': 45.062662760310836,\n",
       "  '21': 19.738114307770783,\n",
       "  '22': 14.938687483990673,\n",
       "  '23': 35.09557245675588,\n",
       "  '24': 19.591071413958748}}"
      ]
     },
     "execution_count": 28,
     "metadata": {},
     "output_type": "execute_result"
    }
   ],
   "source": [
    "# Laden und Anzeigen der Ausgabedatei (optional)\n",
    "with open(output_file, 'r', encoding='utf-8') as f:\n",
    "    output_data = json.load(f)\n",
    "\n",
    "output_data\n"
   ]
  }
 ],
 "metadata": {
  "kernelspec": {
   "display_name": ".venv",
   "language": "python",
   "name": "python3"
  },
  "language_info": {
   "codemirror_mode": {
    "name": "ipython",
    "version": 3
   },
   "file_extension": ".py",
   "mimetype": "text/x-python",
   "name": "python",
   "nbconvert_exporter": "python",
   "pygments_lexer": "ipython3",
   "version": "3.9.13"
  }
 },
 "nbformat": 4,
 "nbformat_minor": 2
}
